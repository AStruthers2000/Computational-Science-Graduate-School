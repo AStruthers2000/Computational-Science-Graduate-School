{
  "nbformat": 4,
  "nbformat_minor": 0,
  "metadata": {
    "colab": {
      "name": "Python examples first lab as Jupiter Notebook.ipynb",
      "provenance": [],
      "collapsed_sections": []
    },
    "kernelspec": {
      "name": "python3",
      "display_name": "Python 3"
    },
    "language_info": {
      "name": "python"
    },
    "accelerator": "GPU"
  },
  "cells": [
    {
      "cell_type": "markdown",
      "metadata": {
        "id": "r7w2oW6EnjkH"
      },
      "source": [
        "Print array"
      ]
    },
    {
      "cell_type": "code",
      "metadata": {
        "id": "NhOhG29FnZuu",
        "colab": {
          "base_uri": "https://localhost:8080/"
        },
        "outputId": "8c051008-80f5-4056-e83d-41bc2a827af1"
      },
      "source": [
        "import numpy as np\n",
        "a = np.array([[2,2,2,2],[2,2,2,2], [2,2,2,2], [2,2,2,2], [2,2,2,2], [2,2,2,2]])\n",
        "print (a) "
      ],
      "execution_count": 14,
      "outputs": [
        {
          "output_type": "stream",
          "text": [
            "[[2 2 2 2]\n",
            " [2 2 2 2]\n",
            " [2 2 2 2]\n",
            " [2 2 2 2]\n",
            " [2 2 2 2]\n",
            " [2 2 2 2]]\n"
          ],
          "name": "stdout"
        }
      ]
    },
    {
      "cell_type": "markdown",
      "metadata": {
        "id": "cApUnhXHnodR"
      },
      "source": [
        "Print sum"
      ]
    },
    {
      "cell_type": "code",
      "metadata": {
        "colab": {
          "base_uri": "https://localhost:8080/"
        },
        "id": "wJ5bxQ_Eskjd",
        "outputId": "bcd755dc-22b0-46fb-acfd-154424d61387"
      },
      "source": [
        "print(\"Sum:\")\n",
        "# In Python 2 this is print \"Sum:\")\n",
        "print(a+a) "
      ],
      "execution_count": 15,
      "outputs": [
        {
          "output_type": "stream",
          "text": [
            "Sum:\n",
            "[[4 4 4 4]\n",
            " [4 4 4 4]\n",
            " [4 4 4 4]\n",
            " [4 4 4 4]\n",
            " [4 4 4 4]\n",
            " [4 4 4 4]]\n"
          ],
          "name": "stdout"
        }
      ]
    },
    {
      "cell_type": "markdown",
      "metadata": {
        "id": "lWVTpy3fn0K_"
      },
      "source": [
        "Compute transpose"
      ]
    },
    {
      "cell_type": "code",
      "metadata": {
        "id": "wRoMnx0fnwSd",
        "colab": {
          "base_uri": "https://localhost:8080/"
        },
        "outputId": "75be4eef-762a-4cb2-9f12-f70cbf719eac"
      },
      "source": [
        "def randomarray(n,m):\n",
        "  b = [[np.random.randint(1,11) for i in range(n)] for j in range(m)]\n",
        "  return b     \n",
        "\n",
        "c = [[0 for i in range(6)] for j in range(4)]\n",
        "c = randomarray(6,4)\n",
        "print(\"Transpose\")\n",
        "print(np.transpose(c))\n"
      ],
      "execution_count": 16,
      "outputs": [
        {
          "output_type": "stream",
          "text": [
            "Transpose\n",
            "[[2 7 3 5]\n",
            " [3 4 2 6]\n",
            " [4 5 4 6]\n",
            " [4 4 4 9]\n",
            " [8 2 9 9]\n",
            " [9 9 4 3]]\n"
          ],
          "name": "stdout"
        }
      ]
    },
    {
      "cell_type": "markdown",
      "metadata": {
        "id": "xtqOGHhdn6Rn"
      },
      "source": [
        "Compute inverse, determinant eigenvalues, aigenvectors"
      ]
    },
    {
      "cell_type": "code",
      "metadata": {
        "id": "rmjcKN4CoMh1",
        "colab": {
          "base_uri": "https://localhost:8080/"
        },
        "outputId": "1602e521-3877-4ef4-c9f0-101d98ea0f27"
      },
      "source": [
        "c = [[0 for i in range(4)] for j in range(4)]\n",
        "c = randomarray(4,4)\n",
        "\n",
        "print(\"Inverse:\")\n",
        "print(np.linalg.inv(c))\n",
        "print(\"Determinant:\")\n",
        "print(np.linalg.det(c))\n",
        "print(\"Eigenvalues and Eigenvectors:\")\n",
        "print(np.linalg.eig(c))"
      ],
      "execution_count": 17,
      "outputs": [
        {
          "output_type": "stream",
          "text": [
            "Inverse:\n",
            "[[-0.25041459  0.15091211  0.08126036  0.01658375]\n",
            " [-0.25538972 -0.03814262  0.05638474  0.21558872]\n",
            " [ 0.53067993 -0.16749585 -0.013267   -0.22719735]\n",
            " [ 0.15091211  0.06799337 -0.0787728  -0.03648425]]\n",
            "Determinant:\n",
            "1206.0000000000005\n",
            "Eigenvalues and Eigenvectors:\n",
            "(array([21.30497871+0.j        , -2.62959702+1.61002469j,\n",
            "       -2.62959702-1.61002469j,  5.95421533+0.j        ]), array([[-0.41569119+0.j        ,  0.12573319+0.31280754j,\n",
            "         0.12573319-0.31280754j, -0.0758725 +0.j        ],\n",
            "       [-0.42082566+0.j        ,  0.61745861+0.j        ,\n",
            "         0.61745861-0.j        ,  0.23254936+0.j        ],\n",
            "       [-0.63931873+0.j        , -0.45036656-0.35860225j,\n",
            "        -0.45036656+0.35860225j, -0.89742696+0.j        ],\n",
            "       [-0.49130251+0.j        , -0.41621365-0.02068964j,\n",
            "        -0.41621365+0.02068964j,  0.36713623+0.j        ]]))\n"
          ],
          "name": "stdout"
        }
      ]
    },
    {
      "cell_type": "markdown",
      "metadata": {
        "id": "4G5ANnBAoSEz"
      },
      "source": [
        "Create plot"
      ]
    },
    {
      "cell_type": "code",
      "metadata": {
        "id": "htd14MjRoWcb",
        "colab": {
          "base_uri": "https://localhost:8080/",
          "height": 295
        },
        "outputId": "976334f1-e575-490f-9f5e-7b8605c03c27"
      },
      "source": [
        "import matplotlib.pyplot as plt\n",
        "\n",
        "t = np.arange(0.0, 2.0, 0.01)\n",
        "s = 1 + np.sin(2*np.pi*t)\n",
        "plt.plot(t, s)\n",
        "plt.xlabel('time (s)')\n",
        "plt.ylabel('voltage (mV)')\n",
        "plt.title('Function')\n",
        "plt.grid(True)\n",
        "plt.savefig(\"test.png\")\n",
        "plt.show()"
      ],
      "execution_count": 18,
      "outputs": [
        {
          "output_type": "display_data",
          "data": {
            "image/png": "[encoded data removed]",
            "text/plain": [
              "<Figure size 432x288 with 1 Axes>"
            ]
          },
          "metadata": {
            "tags": [],
            "needs_background": "light"
          }
        }
      ]
    }
  ]
}